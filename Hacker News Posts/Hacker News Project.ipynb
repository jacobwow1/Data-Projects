{
 "cells": [
  {
   "cell_type": "markdown",
   "id": "fe6b0c3e",
   "metadata": {},
   "source": [
    "# Analyzing Posts on Hacker News\n",
    "\n",
    "in this project, I will be analyzing a dataset of approximatly 20,000 posts on the website __[Hacker News](https://news.ycombinator.com/)__\n",
    "\n",
    "From the data, I will be looking to find the following:\n",
    "- Do ASK HN or SHOW HN posts get more comments?\n",
    "- Do posts created at a certain time recieve more comments on average?\n"
   ]
  },
  {
   "cell_type": "markdown",
   "id": "690f80a0",
   "metadata": {},
   "source": [
    "To begin, we will import the csv file 'hacker_news.csv' and save it as the variable **hn** which is a list of lists. We will also keep the header row from the csv seperate in a variable titled **headers**."
   ]
  },
  {
   "cell_type": "code",
   "execution_count": 1,
   "id": "b9a51967",
   "metadata": {},
   "outputs": [],
   "source": [
    "from csv import reader\n",
    "opened_file = open('hacker_news.csv')\n",
    "read_file = reader(opened_file)\n",
    "hn = list(read_file)\n",
    "headers = hn[0]\n",
    "hn = hn[1:]"
   ]
  },
  {
   "cell_type": "markdown",
   "id": "92b2c92f",
   "metadata": {},
   "source": [
    "Next, we will seperate our data into three different tables. Articles that are ASK HN or SHOW HN will be sorted into the **ask_posts** and **show_posts** tables respectivly. The left-over articles will be put into the **other_posts** table."
   ]
  },
  {
   "cell_type": "code",
   "execution_count": 2,
   "id": "fca8fdcc",
   "metadata": {},
   "outputs": [],
   "source": [
    "ask_posts = []\n",
    "show_posts = []\n",
    "other_posts = []\n",
    "\n",
    "for row in hn:\n",
    "    title = row[1]\n",
    "    if title.lower().startswith('ask hn'):\n",
    "        ask_posts.append(row)\n",
    "    elif title.lower().startswith('show hn'):\n",
    "        show_posts.append(row)\n",
    "    else:\n",
    "        other_posts.append(row)"
   ]
  },
  {
   "cell_type": "code",
   "execution_count": 3,
   "id": "c9684f82",
   "metadata": {},
   "outputs": [
    {
     "name": "stdout",
     "output_type": "stream",
     "text": [
      "14.038417431192661\n",
      "10.31669535283993\n"
     ]
    }
   ],
   "source": [
    "total_ask_comments = 0\n",
    "for post in ask_posts:\n",
    "    total_ask_comments += int(post[4]) \n",
    "avg_ask_comments = total_ask_comments / len(ask_posts)\n",
    "\n",
    "total_show_comments = 0\n",
    "for post in show_posts:\n",
    "    total_show_comments += int(post[4])\n",
    "avg_show_comments = total_show_comments / len(show_posts)\n",
    "\n",
    "print(avg_ask_comments)\n",
    "print(avg_show_comments)"
   ]
  },
  {
   "cell_type": "markdown",
   "id": "9eb48d7d",
   "metadata": {},
   "source": [
    "It appears that the average amount of comments in ASK HN posts are **~14 comments**, the average amount in SHOW HN posts are **~10.3 comments**"
   ]
  },
  {
   "cell_type": "markdown",
   "id": "d0329d4b",
   "metadata": {},
   "source": [
    "Being that ASK HN posts recieve more comments, now we will look to see what hour of the day recieves the most comments for ASK HN posts."
   ]
  },
  {
   "cell_type": "code",
   "execution_count": 4,
   "id": "62647bca",
   "metadata": {},
   "outputs": [
    {
     "name": "stdout",
     "output_type": "stream",
     "text": [
      "{9: 45, 13: 85, 10: 59, 14: 107, 16: 108, 23: 68, 12: 73, 17: 100, 15: 116, 21: 109, 20: 80, 2: 58, 18: 109, 3: 54, 5: 46, 19: 110, 1: 60, 22: 71, 8: 48, 4: 47, 0: 55, 6: 44, 7: 34, 11: 58}\n",
      "{9: 251, 13: 1253, 10: 793, 14: 1416, 16: 1814, 23: 543, 12: 687, 17: 1146, 15: 4477, 21: 1745, 20: 1722, 2: 1381, 18: 1439, 3: 421, 5: 464, 19: 1188, 1: 683, 22: 479, 8: 492, 4: 337, 0: 447, 6: 397, 7: 267, 11: 641}\n"
     ]
    }
   ],
   "source": [
    "import datetime as dt\n",
    "\n",
    "result_list = [] \n",
    "#A list of lists that looks like ['8/16/2016 9:55', 6]\n",
    "for post in ask_posts:\n",
    "    created_comments = [post[6], int(post[4])]\n",
    "    result_list.append(created_comments)\n",
    "    \n",
    "counts_by_hour = {}\n",
    "comments_by_hour = {}\n",
    "\n",
    "for row in result_list:\n",
    "    date = row[0]\n",
    "    date = dt.datetime.strptime(date, '%m/%d/%Y %H:%M')\n",
    "    if date.hour not in counts_by_hour:\n",
    "        counts_by_hour[date.hour] = 1\n",
    "        comments_by_hour[date.hour] = int(row[1])\n",
    "    else:\n",
    "        counts_by_hour[date.hour] += 1\n",
    "        comments_by_hour[date.hour] += int(row[1])\n",
    "\n",
    "print(counts_by_hour)\n",
    "print(comments_by_hour)"
   ]
  },
  {
   "cell_type": "markdown",
   "id": "e2614e16",
   "metadata": {},
   "source": [
    "Two dictionaries were created: **counts_by_hour** which stores the ASK HN articles by {hour of post: num of posts at that hour}, \n",
    "\n",
    "as well as **comments_by_hour** which stores data by {hour of post: total ammount of comments for every post at that hour}."
   ]
  },
  {
   "cell_type": "code",
   "execution_count": 5,
   "id": "e7292249",
   "metadata": {},
   "outputs": [
    {
     "name": "stdout",
     "output_type": "stream",
     "text": [
      "[[9, 5.5777777777777775], [13, 14.741176470588234], [10, 13.440677966101696], [14, 13.233644859813085], [16, 16.796296296296298], [23, 7.985294117647059], [12, 9.41095890410959], [17, 11.46], [15, 38.5948275862069], [21, 16.009174311926607], [20, 21.525], [2, 23.810344827586206], [18, 13.20183486238532], [3, 7.796296296296297], [5, 10.08695652173913], [19, 10.8], [1, 11.383333333333333], [22, 6.746478873239437], [8, 10.25], [4, 7.170212765957447], [0, 8.127272727272727], [6, 9.022727272727273], [7, 7.852941176470588], [11, 11.051724137931034]]\n"
     ]
    }
   ],
   "source": [
    "avg_by_hour = []\n",
    "\n",
    "for hour in comments_by_hour:\n",
    "    average = comments_by_hour[hour] / counts_by_hour[hour]\n",
    "    avg_by_hour.append([hour, average])\n",
    "\n",
    "print(avg_by_hour)"
   ]
  },
  {
   "cell_type": "markdown",
   "id": "3b33bc19",
   "metadata": {},
   "source": [
    "Now we have a list of lists called **avg_by_hour**, with the format [hour, average ammount of comments for posts at that hour]. The code below presents the top 5 hours with the highest comment rates in a more readable manner. "
   ]
  },
  {
   "cell_type": "code",
   "execution_count": 6,
   "id": "d496854e",
   "metadata": {},
   "outputs": [
    {
     "name": "stdout",
     "output_type": "stream",
     "text": [
      "Top 5 Hours for Ask Posts Comments\n",
      "15:00: 38.59 average comments per post\n",
      "2:00: 23.81 average comments per post\n",
      "20:00: 21.52 average comments per post\n",
      "16:00: 16.80 average comments per post\n",
      "21:00: 16.01 average comments per post\n"
     ]
    }
   ],
   "source": [
    "swap_avg_by_hour = []\n",
    "for hour_average in avg_by_hour:\n",
    "    swap_avg_by_hour.append([hour_average[1], hour_average[0]])\n",
    "\n",
    "sorted_swap = sorted(swap_avg_by_hour, reverse=True)\n",
    "print(\"Top 5 Hours for Ask Posts Comments\")\n",
    "\n",
    "for average_hour in sorted_swap[:5]:\n",
    "    template = \"{}:00: {:.2f} average comments per post\"\n",
    "    print(template.format(average_hour[1], average_hour[0]))"
   ]
  },
  {
   "cell_type": "markdown",
   "id": "c4c33ccf",
   "metadata": {},
   "source": [
    "## Results\n",
    "\n",
    "From our data, the times that have the highest average comments per post are:\n",
    "- 3:00pm US Eastern Time w/ 38.59 avg comments per post\n",
    "- 2:00am US Eastern Time w/ 23.81 avg comments per post\n",
    "- 8:00pm US Eastern Time w/ 21.52 avg comments per post\n",
    "- 4:00pm US Eastern Time w/ 16.80 avg comments per post\n",
    "- 9:00pm US Eastern Time w/ 16.01 avg comments per post"
   ]
  }
 ],
 "metadata": {
  "kernelspec": {
   "display_name": "Python 3 (ipykernel)",
   "language": "python",
   "name": "python3"
  },
  "language_info": {
   "codemirror_mode": {
    "name": "ipython",
    "version": 3
   },
   "file_extension": ".py",
   "mimetype": "text/x-python",
   "name": "python",
   "nbconvert_exporter": "python",
   "pygments_lexer": "ipython3",
   "version": "3.10.9"
  }
 },
 "nbformat": 4,
 "nbformat_minor": 5
}
